{
 "cells": [
  {
   "cell_type": "code",
   "execution_count": 7,
   "metadata": {},
   "outputs": [],
   "source": [
    "from storeCompare import run_search\n",
    "from IPython.display import Image\n",
    "\n",
    "search_term = 'desk' # fill in with ML generated search term, filler for now\n",
    "price = 0.0 # optional term, we could give this some value for demo purposes\n",
    "name_text, price_text, imgurl, avg_text, count_text = run_search(search_term)"
   ]
  },
  {
   "cell_type": "code",
   "execution_count": 8,
   "metadata": {},
   "outputs": [
    {
     "name": "stdout",
     "output_type": "stream",
     "text": [
      "96 items checked\n",
      "Average price: $100.56\n",
      "############################\n",
      "Lowest price item: PayLessHere Computer Desk 47 inch Length Study Writing Table, Adjustable feet, Modern Furniture for Home Office, Brown\n",
      "Price: $17.99\n"
     ]
    },
    {
     "data": {
      "text/html": [
       "<img src=\"https://m.media-amazon.com/images/I/61waBxGCL-L._AC_UL320_.jpg\"/>"
      ],
      "text/plain": [
       "<IPython.core.display.Image object>"
      ]
     },
     "execution_count": 8,
     "metadata": {},
     "output_type": "execute_result"
    }
   ],
   "source": [
    "print(count_text)\n",
    "print(avg_text)\n",
    "print(\"############################\")\n",
    "print(name_text)\n",
    "print(price_text)\n",
    "Image(url=imgurl)"
   ]
  },
  {
   "cell_type": "code",
   "execution_count": null,
   "metadata": {},
   "outputs": [],
   "source": []
  }
 ],
 "metadata": {
  "kernelspec": {
   "display_name": "Python 3 (ipykernel)",
   "language": "python",
   "name": "python3"
  },
  "language_info": {
   "codemirror_mode": {
    "name": "ipython",
    "version": 3
   },
   "file_extension": ".py",
   "mimetype": "text/x-python",
   "name": "python",
   "nbconvert_exporter": "python",
   "pygments_lexer": "ipython3",
   "version": "3.8.10"
  }
 },
 "nbformat": 4,
 "nbformat_minor": 4
}
